{
 "cells": [
  {
   "cell_type": "code",
   "execution_count": 4,
   "id": "fbb6e406",
   "metadata": {},
   "outputs": [],
   "source": [
    "import matplotlib.pyplot as plt\n",
    "import seaborn as sns"
   ]
  },
  {
   "cell_type": "code",
   "execution_count": 5,
   "id": "0ddd3a32",
   "metadata": {},
   "outputs": [],
   "source": [
    "def scatter(df, feature1, feature2):\n",
    "    plt.scatter(df[feature1], df[feature2])\n",
    "    plt.ylabel(feature2)\n",
    "    plt.xlabel(feature1)\n",
    "    plt.title(f\"{feature1} vs {feature2}\")\n",
    "    plt.show()"
   ]
  },
  {
   "cell_type": "code",
   "execution_count": 6,
   "id": "85b58fa1",
   "metadata": {},
   "outputs": [],
   "source": [
    "def prices_violin_plot(df):\n",
    "    sns.violinplot(df[\"price\"].loc[df[\"price\"] < df[\"price\"].quantile(0.99)])\n",
    "    plt.title(\"Violin Plot of Nightly Prices\")\n",
    "    plt.xlabel(\"price per night\")\n",
    "    plt.show()"
   ]
  },
  {
   "cell_type": "code",
   "execution_count": null,
   "id": "011499e2",
   "metadata": {},
   "outputs": [],
   "source": [
    "def predict_price(df, feature, feature_val):\n",
    "    model = LinearRegression().fit(df[feature].values.reshape(-1,1), df[\"price\"])\n",
    "    return model.predict([[feature_val]])[0]"
   ]
  }
 ],
 "metadata": {
  "kernelspec": {
   "display_name": "Python 3",
   "language": "python",
   "name": "python3"
  },
  "language_info": {
   "codemirror_mode": {
    "name": "ipython",
    "version": 3
   },
   "file_extension": ".py",
   "mimetype": "text/x-python",
   "name": "python",
   "nbconvert_exporter": "python",
   "pygments_lexer": "ipython3",
   "version": "3.7.11"
  }
 },
 "nbformat": 4,
 "nbformat_minor": 5
}
