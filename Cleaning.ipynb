{
 "cells": [
  {
   "cell_type": "code",
   "execution_count": 1,
   "id": "a65d9246",
   "metadata": {},
   "outputs": [],
   "source": [
    "import pandas as pd\n",
    "import re\n",
    "import numpy as np"
   ]
  },
  {
   "cell_type": "code",
   "execution_count": 2,
   "id": "c79dcb15",
   "metadata": {},
   "outputs": [],
   "source": [
    "def clean(df):\n",
    "    to_drop = ['listing_url', 'scrape_id', 'last_scraped', 'source', 'host_id', 'host_url','host_name','host_thumbnail_url','host_picture_url','neighbourhood_group_cleansed','bathrooms','minimum_minimum_nights','maximum_minimum_nights', 'minimum_maximum_nights','maximum_maximum_nights','minimum_nights_avg_ntm','maximum_nights_avg_ntm','calendar_updated','host_neighbourhood','neighbourhood','license']\n",
    "    df = df.drop(to_drop, axis = 1) #drop unnecessary/redundant columns\n",
    "    \n",
    "    df['description']= df['description'].str.replace(r'<[^<>]*>', '', regex=True) #cleaning\n",
    "    df['host_about']= df['host_about'].str.replace('\\r\\n','')             # descriptions from\n",
    "    df['host_about']= df['host_about'].str.replace(r'<[^<>]*>', '', regex=True) #html tags\n",
    "    \n",
    "    to_datetime = ['host_since', 'calendar_last_scraped', 'first_review', 'last_review']\n",
    "    for col in to_datetime:\n",
    "        df[col] = pd.to_datetime(df[col])\n",
    "    \n",
    "    df['host_verifications'] = df['host_verifications'].apply(lambda x: x.strip('][').split(', '))\n",
    "    df['num_verifications'] = df['host_verifications'].apply(lambda x:len(x))\n",
    "    df['amenities'] = df['amenities'].apply(lambda x: x.strip('][').split(', '))\n",
    "    df['num_amenities'] = df['amenities'].apply(lambda x:len(x))\n",
    "    \n",
    "    df['price'] = df['price'].replace('[\\$,]', '', regex=True).astype(float)\n",
    "    df['min_price'] = df['price'] * df['minimum_nights']\n",
    "    df['max_price'] = df['price'] * df['maximum_nights']\n",
    "    \n",
    "    boolean = ['host_is_superhost', 'host_has_profile_pic', 'host_identity_verified']\n",
    "    for col in boolean:\n",
    "            df[col] = df[col].apply(lambda x: True if (x == \"t\") else False)\n",
    "    \n",
    "    df.replace(\"N/A\", None)\n",
    "    \n",
    "    NA_to_empty = ['neighborhood_overview', 'host_about', 'description']\n",
    "    for col in NA_to_empty:\n",
    "            df[col] = df[col].replace(np.nan, '', regex=True)\n",
    "    \n",
    "    imputate_scores = ['review_scores_rating', 'review_scores_accuracy', 'review_scores_cleanliness', \n",
    "                       'review_scores_checkin', 'review_scores_communication', 'review_scores_location',\n",
    "                      'review_scores_value', 'reviews_per_month']\n",
    "    for col in imputate_scores:\n",
    "        df[col].fillna(value=df[col].mean(), inplace=True)\n",
    "    \n",
    "    df[\"neighborhood_overview_wordcount\"] = df[\"neighborhood_overview\"].apply(lambda x: len(x.split(\" \")))\n",
    "    df[\"host_about_wordcount\"] = df[\"host_about\"].apply(lambda x: len(x.split(\" \")))\n",
    "    df[\"description_wordcount\"] = df[\"description\"].apply(lambda x: len(x.split(\" \")))\n",
    "\n",
    "    df = df.replace(\n",
    "    ['within an hour', 'within a few hours', 'within a day', 'a few days or more'], \n",
    "    [0, 1, 2, 3])\n",
    "    df['host_response_time'] = df['host_response_time'].replace(np.nan, df['host_response_time'].mode().values[0], regex=True)\n",
    "    \n",
    "    df[\"price\"] = df[\"price\"].astype(float)\n",
    "    df['host_response_rate'] = (df['host_response_rate'].replace('[\\%,]', '', regex=True).astype(float))/100\n",
    "    df['host_acceptance_rate'] = (df['host_acceptance_rate'].replace('[\\%,]', '', regex=True).astype(float))/100\n",
    "    df['host_response_rate'].fillna(value=df['host_response_rate'].mean(), inplace=True)\n",
    "    df['host_acceptance_rate'].fillna(value=df['host_acceptance_rate'].mean(), inplace=True)\n",
    "    \n",
    "    df = df.dropna()\n",
    "    \n",
    "    return df"
   ]
  }
 ],
 "metadata": {
  "kernelspec": {
   "display_name": "Python 3",
   "language": "python",
   "name": "python3"
  },
  "language_info": {
   "codemirror_mode": {
    "name": "ipython",
    "version": 3
   },
   "file_extension": ".py",
   "mimetype": "text/x-python",
   "name": "python",
   "nbconvert_exporter": "python",
   "pygments_lexer": "ipython3",
   "version": "3.7.11"
  }
 },
 "nbformat": 4,
 "nbformat_minor": 5
}
