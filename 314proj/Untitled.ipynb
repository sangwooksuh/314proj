{
 "cells": [
  {
   "cell_type": "code",
   "execution_count": 121,
   "id": "36277e36",
   "metadata": {},
   "outputs": [],
   "source": [
    "import pandas as pd\n",
    "import re\n",
    "import numpy as np\n",
    "\n",
    "\n",
    "df = pd.read_csv(\"listings2.csv\", index_col = 0)"
   ]
  },
  {
   "cell_type": "code",
   "execution_count": 62,
   "id": "55102e4e",
   "metadata": {},
   "outputs": [
    {
     "data": {
      "text/plain": [
       "Index(['listing_url', 'scrape_id', 'last_scraped', 'source', 'name',\n",
       "       'description', 'neighborhood_overview', 'picture_url', 'host_id',\n",
       "       'host_url', 'host_name', 'host_since', 'host_location', 'host_about',\n",
       "       'host_response_time', 'host_response_rate', 'host_acceptance_rate',\n",
       "       'host_is_superhost', 'host_thumbnail_url', 'host_picture_url',\n",
       "       'host_neighbourhood', 'host_listings_count',\n",
       "       'host_total_listings_count', 'host_verifications',\n",
       "       'host_has_profile_pic', 'host_identity_verified', 'neighbourhood',\n",
       "       'neighbourhood_cleansed', 'neighbourhood_group_cleansed', 'latitude',\n",
       "       'longitude', 'property_type', 'room_type', 'accommodates', 'bathrooms',\n",
       "       'bathrooms_text', 'bedrooms', 'beds', 'amenities', 'price',\n",
       "       'minimum_nights', 'maximum_nights', 'minimum_minimum_nights',\n",
       "       'maximum_minimum_nights', 'minimum_maximum_nights',\n",
       "       'maximum_maximum_nights', 'minimum_nights_avg_ntm',\n",
       "       'maximum_nights_avg_ntm', 'calendar_updated', 'has_availability',\n",
       "       'availability_30', 'availability_60', 'availability_90',\n",
       "       'availability_365', 'calendar_last_scraped', 'number_of_reviews',\n",
       "       'number_of_reviews_ltm', 'number_of_reviews_l30d', 'first_review',\n",
       "       'last_review', 'review_scores_rating', 'review_scores_accuracy',\n",
       "       'review_scores_cleanliness', 'review_scores_checkin',\n",
       "       'review_scores_communication', 'review_scores_location',\n",
       "       'review_scores_value', 'license', 'instant_bookable',\n",
       "       'calculated_host_listings_count',\n",
       "       'calculated_host_listings_count_entire_homes',\n",
       "       'calculated_host_listings_count_private_rooms',\n",
       "       'calculated_host_listings_count_shared_rooms', 'reviews_per_month'],\n",
       "      dtype='object')"
      ]
     },
     "execution_count": 62,
     "metadata": {},
     "output_type": "execute_result"
    }
   ],
   "source": [
    "df.columns"
   ]
  },
  {
   "cell_type": "code",
   "execution_count": 63,
   "id": "4911429a",
   "metadata": {},
   "outputs": [],
   "source": [
    "to_drop = ['listing_url', \n",
    "           'scrape_id', \n",
    "           'last_scraped', \n",
    "           'source', \n",
    "           'host_id', \n",
    "           'host_url',\n",
    "           'host_name',\n",
    "           'host_thumbnail_url',\n",
    "           'host_picture_url',\n",
    "           'neighbourhood_group_cleansed',\n",
    "           'bathrooms',\n",
    "           'minimum_minimum_nights',\n",
    "           'maximum_minimum_nights', \n",
    "           'minimum_maximum_nights',\n",
    "           'maximum_maximum_nights',\n",
    "           'minimum_nights_avg_ntm',\n",
    "           'maximum_nights_avg_ntm',\n",
    "           'calendar_updated',\n",
    "           'host_neighbourhood',\n",
    "           'neighbourhood',\n",
    "           'license']\n",
    "df = df.drop(to_drop, axis = 1)"
   ]
  },
  {
   "cell_type": "code",
   "execution_count": null,
   "id": "c68715ac",
   "metadata": {},
   "outputs": [],
   "source": []
  },
  {
   "cell_type": "code",
   "execution_count": 64,
   "id": "c2fbeb73",
   "metadata": {},
   "outputs": [
    {
     "data": {
      "text/plain": [
       "Index(['name', 'description', 'neighborhood_overview', 'picture_url',\n",
       "       'host_since', 'host_location', 'host_about', 'host_response_time',\n",
       "       'host_response_rate', 'host_acceptance_rate', 'host_is_superhost',\n",
       "       'host_listings_count', 'host_total_listings_count',\n",
       "       'host_verifications', 'host_has_profile_pic', 'host_identity_verified',\n",
       "       'neighbourhood_cleansed', 'latitude', 'longitude', 'property_type',\n",
       "       'room_type', 'accommodates', 'bathrooms_text', 'bedrooms', 'beds',\n",
       "       'amenities', 'price', 'minimum_nights', 'maximum_nights',\n",
       "       'has_availability', 'availability_30', 'availability_60',\n",
       "       'availability_90', 'availability_365', 'calendar_last_scraped',\n",
       "       'number_of_reviews', 'number_of_reviews_ltm', 'number_of_reviews_l30d',\n",
       "       'first_review', 'last_review', 'review_scores_rating',\n",
       "       'review_scores_accuracy', 'review_scores_cleanliness',\n",
       "       'review_scores_checkin', 'review_scores_communication',\n",
       "       'review_scores_location', 'review_scores_value', 'instant_bookable',\n",
       "       'calculated_host_listings_count',\n",
       "       'calculated_host_listings_count_entire_homes',\n",
       "       'calculated_host_listings_count_private_rooms',\n",
       "       'calculated_host_listings_count_shared_rooms', 'reviews_per_month'],\n",
       "      dtype='object')"
      ]
     },
     "execution_count": 64,
     "metadata": {},
     "output_type": "execute_result"
    }
   ],
   "source": [
    "df.columns"
   ]
  },
  {
   "cell_type": "code",
   "execution_count": 65,
   "id": "5a66984c",
   "metadata": {},
   "outputs": [
    {
     "data": {
      "text/plain": [
       "'Quiet Garden View Room & Super Fast WiFiThe spaceI\\'m renting a bedroom (room overlooking the garden) in my apartment in Amsterdam, The room is located to the east of the city centre in a quiet, typical Amsterdam neighbourhood the \"Indische Buurt\". Amsterdam’s historic centre is less than 15 minutes away by bike or tram.The features of the room are:- Twin beds (80 x 200 cm, down quilts and pillows) - 2 pure cotton towels for each guest - reading lamps- bedside table- wardrobe- table with chairs- tea and coffee making facilities- mini bar- alarm clock- Hi-Fi system with cd player, connection for mp3 player / phone- map of Amsterdam and public transport- Wi-Fi Internet connection Extra services:- Bike rentalLicense number0363 5F3A 5684 6750 D14D'"
      ]
     },
     "execution_count": 65,
     "metadata": {},
     "output_type": "execute_result"
    }
   ],
   "source": [
    "# df['description']= df['description'].str.replace('<br />','')\n",
    "# df['description']= df['description'].str.replace('<b>','')\n",
    "# df['description']= df['description'].str.replace('</b>','')\n",
    "\n",
    "df['description']= df['description'].str.replace(r'<[^<>]*>', '', regex=True)\n",
    "\n",
    "\n",
    "df['description'].iloc[0]"
   ]
  },
  {
   "cell_type": "code",
   "execution_count": 66,
   "id": "7dbd3171",
   "metadata": {},
   "outputs": [],
   "source": [
    "df['host_since'] = pd.to_datetime(df['host_since'])"
   ]
  },
  {
   "cell_type": "code",
   "execution_count": 67,
   "id": "de1bceb9",
   "metadata": {},
   "outputs": [
    {
     "data": {
      "text/plain": [
       "id\n",
       "2818       2008-09-24\n",
       "20168      2009-12-02\n",
       "27886      2010-03-23\n",
       "28871      2010-05-13\n",
       "29051      2010-05-13\n",
       "              ...    \n",
       "12690380   2014-05-03\n",
       "15005354   2015-10-13\n",
       "15171981   2016-09-22\n",
       "17567812   2016-01-18\n",
       "20084434   2015-03-16\n",
       "Name: host_since, Length: 6893, dtype: datetime64[ns]"
      ]
     },
     "execution_count": 67,
     "metadata": {},
     "output_type": "execute_result"
    }
   ],
   "source": [
    "df['host_since']"
   ]
  },
  {
   "cell_type": "code",
   "execution_count": 68,
   "id": "55dedf89",
   "metadata": {},
   "outputs": [],
   "source": [
    "df['host_about']= df['host_about'].str.replace('\\r\\n','')\n",
    "df['host_about']= df['host_about'].str.replace(r'<[^<>]*>', '', regex=True)"
   ]
  },
  {
   "cell_type": "code",
   "execution_count": 69,
   "id": "425cb9be",
   "metadata": {},
   "outputs": [
    {
     "data": {
      "text/plain": [
       "'Hi there! Thank you for visiting my listing. I love my home and am happy to welcome guests.I am 48 years old and I live here with my partner Jan.  I  work in private health care, specialized with dementia. I started out as a home exchanger, so I know how great it feels to have a home away form home when you visit a big city. After a long day full of walking and sight seeing it is wonderful to get home and lay on a sofa or take a bath and get a fresh soda from your own fridge without a mini bar bill!If you have any questions please do not hesitate to contact me. If you like my house, please do not make a reservation request immediately, just send me a message. I never accept reservation requests without communicating with potential guests through email before. It is not a second home, but the house I live in. I do not rent it out to everybody. Thanks!Best wishes, Cornélie'"
      ]
     },
     "execution_count": 69,
     "metadata": {},
     "output_type": "execute_result"
    }
   ],
   "source": [
    "df['host_about'].iloc[9]"
   ]
  },
  {
   "cell_type": "code",
   "execution_count": 70,
   "id": "9f759151",
   "metadata": {},
   "outputs": [],
   "source": [
    "df['host_verifications'] = df['host_verifications'].apply(lambda x: x.strip('][').split(', '))\n"
   ]
  },
  {
   "cell_type": "code",
   "execution_count": 71,
   "id": "81269e9c",
   "metadata": {},
   "outputs": [
    {
     "data": {
      "text/plain": [
       "[\"'email'\", \"'phone'\"]"
      ]
     },
     "execution_count": 71,
     "metadata": {},
     "output_type": "execute_result"
    }
   ],
   "source": [
    "df['host_verifications'].iloc[1]"
   ]
  },
  {
   "cell_type": "code",
   "execution_count": 72,
   "id": "0a587062",
   "metadata": {},
   "outputs": [],
   "source": [
    "df['num_verifications'] = df['host_verifications'].apply(lambda x:len(x))"
   ]
  },
  {
   "cell_type": "code",
   "execution_count": 73,
   "id": "c4b641dd",
   "metadata": {},
   "outputs": [
    {
     "data": {
      "text/plain": [
       "id\n",
       "2818        2\n",
       "20168       2\n",
       "27886       2\n",
       "28871       2\n",
       "29051       2\n",
       "           ..\n",
       "12690380    2\n",
       "15005354    2\n",
       "15171981    2\n",
       "17567812    2\n",
       "20084434    2\n",
       "Name: num_verifications, Length: 6893, dtype: int64"
      ]
     },
     "execution_count": 73,
     "metadata": {},
     "output_type": "execute_result"
    }
   ],
   "source": [
    "df['num_verifications']"
   ]
  },
  {
   "cell_type": "code",
   "execution_count": 74,
   "id": "c409e21e",
   "metadata": {},
   "outputs": [],
   "source": [
    "df['amenities'] = df['amenities'].apply(lambda x: x.strip('][').split(', '))\n",
    "df['num_amenities'] = df['amenities'].apply(lambda x:len(x))"
   ]
  },
  {
   "cell_type": "code",
   "execution_count": 75,
   "id": "8eaa990c",
   "metadata": {},
   "outputs": [
    {
     "data": {
      "text/plain": [
       "id\n",
       "2818        40\n",
       "20168       16\n",
       "27886       45\n",
       "28871       20\n",
       "29051       19\n",
       "            ..\n",
       "12690380    66\n",
       "15005354    32\n",
       "15171981    45\n",
       "17567812    29\n",
       "20084434    61\n",
       "Name: num_amenities, Length: 6893, dtype: int64"
      ]
     },
     "execution_count": 75,
     "metadata": {},
     "output_type": "execute_result"
    }
   ],
   "source": [
    "df['num_amenities']"
   ]
  },
  {
   "cell_type": "code",
   "execution_count": 76,
   "id": "a8e8607a",
   "metadata": {},
   "outputs": [],
   "source": [
    "df['price'] = df['price'].replace('[\\$,]', '', regex=True).astype(float)"
   ]
  },
  {
   "cell_type": "code",
   "execution_count": null,
   "id": "7316641e",
   "metadata": {},
   "outputs": [],
   "source": []
  },
  {
   "cell_type": "code",
   "execution_count": 77,
   "id": "9bfaa0db",
   "metadata": {},
   "outputs": [],
   "source": [
    "df['min_price'] = df['price'] * df['minimum_nights']\n",
    "df['max_price'] = df['price'] * df['maximum_nights']"
   ]
  },
  {
   "cell_type": "code",
   "execution_count": 78,
   "id": "01ea7786",
   "metadata": {},
   "outputs": [
    {
     "data": {
      "text/plain": [
       "id\n",
       "2818         147.0\n",
       "20168        106.0\n",
       "27886        272.0\n",
       "28871        150.0\n",
       "29051        110.0\n",
       "             ...  \n",
       "12690380     900.0\n",
       "15005354     780.0\n",
       "15171981     449.0\n",
       "17567812    1128.0\n",
       "20084434     600.0\n",
       "Name: min_price, Length: 6893, dtype: float64"
      ]
     },
     "execution_count": 78,
     "metadata": {},
     "output_type": "execute_result"
    }
   ],
   "source": [
    "df['min_price']"
   ]
  },
  {
   "cell_type": "code",
   "execution_count": 79,
   "id": "f06b2149",
   "metadata": {},
   "outputs": [
    {
     "data": {
      "text/plain": [
       "id\n",
       "2818          1372.0\n",
       "20168        38690.0\n",
       "27886        48416.0\n",
       "28871       136875.0\n",
       "29051        40150.0\n",
       "              ...   \n",
       "12690380    337500.0\n",
       "15005354      4095.0\n",
       "15171981     13470.0\n",
       "17567812    317250.0\n",
       "20084434    225000.0\n",
       "Name: max_price, Length: 6893, dtype: float64"
      ]
     },
     "execution_count": 79,
     "metadata": {},
     "output_type": "execute_result"
    }
   ],
   "source": [
    "df['max_price']"
   ]
  },
  {
   "cell_type": "code",
   "execution_count": 80,
   "id": "11ac8a6d",
   "metadata": {},
   "outputs": [],
   "source": [
    "df['calendar_last_scraped'] = pd.to_datetime(df['calendar_last_scraped'])"
   ]
  },
  {
   "cell_type": "code",
   "execution_count": 81,
   "id": "775940b1",
   "metadata": {},
   "outputs": [
    {
     "data": {
      "text/plain": [
       "id\n",
       "2818       2022-09-07\n",
       "20168      2022-09-07\n",
       "27886      2022-09-07\n",
       "28871      2022-09-07\n",
       "29051      2022-09-07\n",
       "              ...    \n",
       "12690380   2022-09-07\n",
       "15005354   2022-09-07\n",
       "15171981   2022-09-07\n",
       "17567812   2022-09-07\n",
       "20084434   2022-09-07\n",
       "Name: calendar_last_scraped, Length: 6893, dtype: datetime64[ns]"
      ]
     },
     "execution_count": 81,
     "metadata": {},
     "output_type": "execute_result"
    }
   ],
   "source": [
    "df['calendar_last_scraped']"
   ]
  },
  {
   "cell_type": "code",
   "execution_count": 82,
   "id": "eb11e032",
   "metadata": {},
   "outputs": [],
   "source": [
    "df['first_review'] = pd.to_datetime(df['first_review'])\n",
    "df['last_review'] = pd.to_datetime(df['last_review'])"
   ]
  },
  {
   "cell_type": "code",
   "execution_count": 83,
   "id": "a7f26537",
   "metadata": {},
   "outputs": [],
   "source": [
    "df['host_is_superhost'] = df['host_is_superhost'].apply(lambda x: True if (x == \"t\") else False)\n",
    "        "
   ]
  },
  {
   "cell_type": "code",
   "execution_count": 84,
   "id": "1a4bfb33",
   "metadata": {},
   "outputs": [
    {
     "data": {
      "text/plain": [
       "id\n",
       "2818         True\n",
       "20168       False\n",
       "27886       False\n",
       "28871        True\n",
       "29051        True\n",
       "            ...  \n",
       "12690380    False\n",
       "15005354    False\n",
       "15171981    False\n",
       "17567812    False\n",
       "20084434    False\n",
       "Name: host_is_superhost, Length: 6893, dtype: bool"
      ]
     },
     "execution_count": 84,
     "metadata": {},
     "output_type": "execute_result"
    }
   ],
   "source": [
    "df['host_is_superhost']"
   ]
  },
  {
   "cell_type": "code",
   "execution_count": 85,
   "id": "13f34fee",
   "metadata": {},
   "outputs": [],
   "source": [
    "\n",
    "df['host_has_profile_pic'] = df['host_has_profile_pic'].apply(lambda x: True if (x == \"t\") else False)\n",
    "\n"
   ]
  },
  {
   "cell_type": "code",
   "execution_count": 86,
   "id": "8ed4f592",
   "metadata": {},
   "outputs": [],
   "source": [
    "df['host_identity_verified'] = df['host_identity_verified'].apply(lambda x: True if (x == \"t\") else False)"
   ]
  },
  {
   "cell_type": "code",
   "execution_count": 87,
   "id": "7271e49e",
   "metadata": {},
   "outputs": [
    {
     "data": {
      "text/plain": [
       "id\n",
       "2818         True\n",
       "20168        True\n",
       "27886        True\n",
       "28871        True\n",
       "29051        True\n",
       "            ...  \n",
       "12690380     True\n",
       "15005354    False\n",
       "15171981    False\n",
       "17567812    False\n",
       "20084434    False\n",
       "Name: host_identity_verified, Length: 6893, dtype: bool"
      ]
     },
     "execution_count": 87,
     "metadata": {},
     "output_type": "execute_result"
    }
   ],
   "source": [
    "df['host_identity_verified']"
   ]
  },
  {
   "cell_type": "code",
   "execution_count": 88,
   "id": "b25c806e",
   "metadata": {},
   "outputs": [
    {
     "name": "stderr",
     "output_type": "stream",
     "text": [
      "/Users/kevinyan/opt/miniconda3/envs/cse217a/lib/python3.7/site-packages/pandas/core/missing.py:56: FutureWarning: elementwise comparison failed; returning scalar instead, but in the future will perform elementwise comparison\n",
      "  mask |= arr == x\n"
     ]
    },
    {
     "data": {
      "text/html": [
       "<div>\n",
       "<style scoped>\n",
       "    .dataframe tbody tr th:only-of-type {\n",
       "        vertical-align: middle;\n",
       "    }\n",
       "\n",
       "    .dataframe tbody tr th {\n",
       "        vertical-align: top;\n",
       "    }\n",
       "\n",
       "    .dataframe thead th {\n",
       "        text-align: right;\n",
       "    }\n",
       "</style>\n",
       "<table border=\"1\" class=\"dataframe\">\n",
       "  <thead>\n",
       "    <tr style=\"text-align: right;\">\n",
       "      <th></th>\n",
       "      <th>name</th>\n",
       "      <th>description</th>\n",
       "      <th>neighborhood_overview</th>\n",
       "      <th>picture_url</th>\n",
       "      <th>host_since</th>\n",
       "      <th>host_location</th>\n",
       "      <th>host_about</th>\n",
       "      <th>host_response_time</th>\n",
       "      <th>host_response_rate</th>\n",
       "      <th>host_acceptance_rate</th>\n",
       "      <th>...</th>\n",
       "      <th>instant_bookable</th>\n",
       "      <th>calculated_host_listings_count</th>\n",
       "      <th>calculated_host_listings_count_entire_homes</th>\n",
       "      <th>calculated_host_listings_count_private_rooms</th>\n",
       "      <th>calculated_host_listings_count_shared_rooms</th>\n",
       "      <th>reviews_per_month</th>\n",
       "      <th>num_verifications</th>\n",
       "      <th>num_amenities</th>\n",
       "      <th>min_price</th>\n",
       "      <th>max_price</th>\n",
       "    </tr>\n",
       "    <tr>\n",
       "      <th>id</th>\n",
       "      <th></th>\n",
       "      <th></th>\n",
       "      <th></th>\n",
       "      <th></th>\n",
       "      <th></th>\n",
       "      <th></th>\n",
       "      <th></th>\n",
       "      <th></th>\n",
       "      <th></th>\n",
       "      <th></th>\n",
       "      <th></th>\n",
       "      <th></th>\n",
       "      <th></th>\n",
       "      <th></th>\n",
       "      <th></th>\n",
       "      <th></th>\n",
       "      <th></th>\n",
       "      <th></th>\n",
       "      <th></th>\n",
       "      <th></th>\n",
       "      <th></th>\n",
       "    </tr>\n",
       "  </thead>\n",
       "  <tbody>\n",
       "    <tr>\n",
       "      <th>2818</th>\n",
       "      <td>Quiet Garden View Room &amp; Super Fast WiFi</td>\n",
       "      <td>Quiet Garden View Room &amp; Super Fast WiFiThe sp...</td>\n",
       "      <td>Indische Buurt (\"Indies Neighborhood\") is a ne...</td>\n",
       "      <td>https://a0.muscache.com/pictures/10272854/8dcc...</td>\n",
       "      <td>2008-09-24</td>\n",
       "      <td>Amsterdam, Netherlands</td>\n",
       "      <td>Upon arriving in Amsterdam, one can imagine as...</td>\n",
       "      <td>within an hour</td>\n",
       "      <td>100%</td>\n",
       "      <td>100%</td>\n",
       "      <td>...</td>\n",
       "      <td>t</td>\n",
       "      <td>1</td>\n",
       "      <td>0</td>\n",
       "      <td>1</td>\n",
       "      <td>0</td>\n",
       "      <td>1.86</td>\n",
       "      <td>2</td>\n",
       "      <td>40</td>\n",
       "      <td>147.0</td>\n",
       "      <td>1372.0</td>\n",
       "    </tr>\n",
       "    <tr>\n",
       "      <th>20168</th>\n",
       "      <td>Studio with private bathroom in the centre 1</td>\n",
       "      <td>17th century Dutch townhouse in the heart of t...</td>\n",
       "      <td>Located just in between famous central canals....</td>\n",
       "      <td>https://a0.muscache.com/pictures/69979628/fd6a...</td>\n",
       "      <td>2009-12-02</td>\n",
       "      <td>Amsterdam, Netherlands</td>\n",
       "      <td>+ (Phone number hidden by Airbnb)</td>\n",
       "      <td>within an hour</td>\n",
       "      <td>100%</td>\n",
       "      <td>98%</td>\n",
       "      <td>...</td>\n",
       "      <td>t</td>\n",
       "      <td>2</td>\n",
       "      <td>0</td>\n",
       "      <td>2</td>\n",
       "      <td>0</td>\n",
       "      <td>2.22</td>\n",
       "      <td>2</td>\n",
       "      <td>16</td>\n",
       "      <td>106.0</td>\n",
       "      <td>38690.0</td>\n",
       "    </tr>\n",
       "    <tr>\n",
       "      <th>27886</th>\n",
       "      <td>Romantic, stylish B&amp;B houseboat in canal district</td>\n",
       "      <td>Stylish and romantic houseboat on fantastic hi...</td>\n",
       "      <td>Central, quiet, safe, clean and beautiful.</td>\n",
       "      <td>https://a0.muscache.com/pictures/02c2da9d-660e...</td>\n",
       "      <td>2010-03-23</td>\n",
       "      <td>Amsterdam, Netherlands</td>\n",
       "      <td>Marjan works in \"eye\" the dutch filmmuseum, an...</td>\n",
       "      <td>within an hour</td>\n",
       "      <td>100%</td>\n",
       "      <td>100%</td>\n",
       "      <td>...</td>\n",
       "      <td>t</td>\n",
       "      <td>1</td>\n",
       "      <td>0</td>\n",
       "      <td>1</td>\n",
       "      <td>0</td>\n",
       "      <td>1.78</td>\n",
       "      <td>2</td>\n",
       "      <td>45</td>\n",
       "      <td>272.0</td>\n",
       "      <td>48416.0</td>\n",
       "    </tr>\n",
       "    <tr>\n",
       "      <th>28871</th>\n",
       "      <td>Comfortable double room</td>\n",
       "      <td>The spaceIn a monumental house right in the ce...</td>\n",
       "      <td>Flower market , Leidseplein , Rembrantsplein</td>\n",
       "      <td>https://a0.muscache.com/pictures/160889/362340...</td>\n",
       "      <td>2010-05-13</td>\n",
       "      <td>Amsterdam, Netherlands</td>\n",
       "      <td>Hi</td>\n",
       "      <td>within an hour</td>\n",
       "      <td>100%</td>\n",
       "      <td>100%</td>\n",
       "      <td>...</td>\n",
       "      <td>f</td>\n",
       "      <td>2</td>\n",
       "      <td>0</td>\n",
       "      <td>2</td>\n",
       "      <td>0</td>\n",
       "      <td>2.92</td>\n",
       "      <td>2</td>\n",
       "      <td>20</td>\n",
       "      <td>150.0</td>\n",
       "      <td>136875.0</td>\n",
       "    </tr>\n",
       "    <tr>\n",
       "      <th>29051</th>\n",
       "      <td>Comfortable single room</td>\n",
       "      <td>This room can also accomodate 2 people.  For a...</td>\n",
       "      <td>the street is quite lively especially on weeke...</td>\n",
       "      <td>https://a0.muscache.com/pictures/162009/bd6be2...</td>\n",
       "      <td>2010-05-13</td>\n",
       "      <td>Amsterdam, Netherlands</td>\n",
       "      <td>Hi</td>\n",
       "      <td>within an hour</td>\n",
       "      <td>100%</td>\n",
       "      <td>100%</td>\n",
       "      <td>...</td>\n",
       "      <td>f</td>\n",
       "      <td>2</td>\n",
       "      <td>0</td>\n",
       "      <td>2</td>\n",
       "      <td>0</td>\n",
       "      <td>4.16</td>\n",
       "      <td>2</td>\n",
       "      <td>19</td>\n",
       "      <td>110.0</td>\n",
       "      <td>40150.0</td>\n",
       "    </tr>\n",
       "    <tr>\n",
       "      <th>...</th>\n",
       "      <td>...</td>\n",
       "      <td>...</td>\n",
       "      <td>...</td>\n",
       "      <td>...</td>\n",
       "      <td>...</td>\n",
       "      <td>...</td>\n",
       "      <td>...</td>\n",
       "      <td>...</td>\n",
       "      <td>...</td>\n",
       "      <td>...</td>\n",
       "      <td>...</td>\n",
       "      <td>...</td>\n",
       "      <td>...</td>\n",
       "      <td>...</td>\n",
       "      <td>...</td>\n",
       "      <td>...</td>\n",
       "      <td>...</td>\n",
       "      <td>...</td>\n",
       "      <td>...</td>\n",
       "      <td>...</td>\n",
       "      <td>...</td>\n",
       "    </tr>\n",
       "    <tr>\n",
       "      <th>12690380</th>\n",
       "      <td>Amsterdam, light big house 15 min from citycenter</td>\n",
       "      <td>We have a comfortable cosy house with a garden...</td>\n",
       "      <td>Green and quiet lots of playgrounds for kids o...</td>\n",
       "      <td>https://a0.muscache.com/pictures/a100d408-769c...</td>\n",
       "      <td>2014-05-03</td>\n",
       "      <td>Amsterdam, Netherlands</td>\n",
       "      <td>NaN</td>\n",
       "      <td>within a few hours</td>\n",
       "      <td>100%</td>\n",
       "      <td>100%</td>\n",
       "      <td>...</td>\n",
       "      <td>f</td>\n",
       "      <td>1</td>\n",
       "      <td>1</td>\n",
       "      <td>0</td>\n",
       "      <td>0</td>\n",
       "      <td>0.36</td>\n",
       "      <td>2</td>\n",
       "      <td>66</td>\n",
       "      <td>900.0</td>\n",
       "      <td>337500.0</td>\n",
       "    </tr>\n",
       "    <tr>\n",
       "      <th>15005354</th>\n",
       "      <td>Perfect family home near Amsterdam</td>\n",
       "      <td>Our house is situated in a quiet neighborhood ...</td>\n",
       "      <td>The house is situated in a beautiful neighbour...</td>\n",
       "      <td>https://a0.muscache.com/pictures/7a7d8058-c3f7...</td>\n",
       "      <td>2015-10-13</td>\n",
       "      <td>NaN</td>\n",
       "      <td>NaN</td>\n",
       "      <td>within an hour</td>\n",
       "      <td>67%</td>\n",
       "      <td>50%</td>\n",
       "      <td>...</td>\n",
       "      <td>f</td>\n",
       "      <td>1</td>\n",
       "      <td>1</td>\n",
       "      <td>0</td>\n",
       "      <td>0</td>\n",
       "      <td>0.26</td>\n",
       "      <td>2</td>\n",
       "      <td>32</td>\n",
       "      <td>780.0</td>\n",
       "      <td>4095.0</td>\n",
       "    </tr>\n",
       "    <tr>\n",
       "      <th>15171981</th>\n",
       "      <td>Child friendly house near Amsterdam - free par...</td>\n",
       "      <td>Lovely family house with beautiful garden in a...</td>\n",
       "      <td>Located just outside of Amsterdam, in Duivendr...</td>\n",
       "      <td>https://a0.muscache.com/pictures/50ab12e8-c478...</td>\n",
       "      <td>2016-09-22</td>\n",
       "      <td>Duivendrecht, Netherlands</td>\n",
       "      <td>NaN</td>\n",
       "      <td>within an hour</td>\n",
       "      <td>100%</td>\n",
       "      <td>100%</td>\n",
       "      <td>...</td>\n",
       "      <td>f</td>\n",
       "      <td>1</td>\n",
       "      <td>1</td>\n",
       "      <td>0</td>\n",
       "      <td>0</td>\n",
       "      <td>0.29</td>\n",
       "      <td>2</td>\n",
       "      <td>45</td>\n",
       "      <td>449.0</td>\n",
       "      <td>13470.0</td>\n",
       "    </tr>\n",
       "    <tr>\n",
       "      <th>17567812</th>\n",
       "      <td>Modern, spacious family home, 5 bedrooms-Amste...</td>\n",
       "      <td>Our house is located just 10 minutes away from...</td>\n",
       "      <td>A very nice, quiet area, close to a park, fore...</td>\n",
       "      <td>https://a0.muscache.com/pictures/89bba873-f6c1...</td>\n",
       "      <td>2016-01-18</td>\n",
       "      <td>Amstelveen, Netherlands</td>\n",
       "      <td>NaN</td>\n",
       "      <td>a few days or more</td>\n",
       "      <td>0%</td>\n",
       "      <td>0%</td>\n",
       "      <td>...</td>\n",
       "      <td>f</td>\n",
       "      <td>1</td>\n",
       "      <td>1</td>\n",
       "      <td>0</td>\n",
       "      <td>0</td>\n",
       "      <td>0.12</td>\n",
       "      <td>2</td>\n",
       "      <td>29</td>\n",
       "      <td>1128.0</td>\n",
       "      <td>317250.0</td>\n",
       "    </tr>\n",
       "    <tr>\n",
       "      <th>20084434</th>\n",
       "      <td>Single-family house (15m cycling center Amster...</td>\n",
       "      <td>Careful! The house has one double bed, one sin...</td>\n",
       "      <td>This is a little peace and quiet in the crazin...</td>\n",
       "      <td>https://a0.muscache.com/pictures/b68d763a-2c1f...</td>\n",
       "      <td>2015-03-16</td>\n",
       "      <td>Amsterdam, Netherlands</td>\n",
       "      <td>NaN</td>\n",
       "      <td>within a day</td>\n",
       "      <td>100%</td>\n",
       "      <td>36%</td>\n",
       "      <td>...</td>\n",
       "      <td>f</td>\n",
       "      <td>1</td>\n",
       "      <td>1</td>\n",
       "      <td>0</td>\n",
       "      <td>0</td>\n",
       "      <td>0.37</td>\n",
       "      <td>2</td>\n",
       "      <td>61</td>\n",
       "      <td>600.0</td>\n",
       "      <td>225000.0</td>\n",
       "    </tr>\n",
       "  </tbody>\n",
       "</table>\n",
       "<p>6893 rows × 57 columns</p>\n",
       "</div>"
      ],
      "text/plain": [
       "                                                       name  \\\n",
       "id                                                            \n",
       "2818               Quiet Garden View Room & Super Fast WiFi   \n",
       "20168          Studio with private bathroom in the centre 1   \n",
       "27886     Romantic, stylish B&B houseboat in canal district   \n",
       "28871                               Comfortable double room   \n",
       "29051                               Comfortable single room   \n",
       "...                                                     ...   \n",
       "12690380  Amsterdam, light big house 15 min from citycenter   \n",
       "15005354                 Perfect family home near Amsterdam   \n",
       "15171981  Child friendly house near Amsterdam - free par...   \n",
       "17567812  Modern, spacious family home, 5 bedrooms-Amste...   \n",
       "20084434  Single-family house (15m cycling center Amster...   \n",
       "\n",
       "                                                description  \\\n",
       "id                                                            \n",
       "2818      Quiet Garden View Room & Super Fast WiFiThe sp...   \n",
       "20168     17th century Dutch townhouse in the heart of t...   \n",
       "27886     Stylish and romantic houseboat on fantastic hi...   \n",
       "28871     The spaceIn a monumental house right in the ce...   \n",
       "29051     This room can also accomodate 2 people.  For a...   \n",
       "...                                                     ...   \n",
       "12690380  We have a comfortable cosy house with a garden...   \n",
       "15005354  Our house is situated in a quiet neighborhood ...   \n",
       "15171981  Lovely family house with beautiful garden in a...   \n",
       "17567812  Our house is located just 10 minutes away from...   \n",
       "20084434  Careful! The house has one double bed, one sin...   \n",
       "\n",
       "                                      neighborhood_overview  \\\n",
       "id                                                            \n",
       "2818      Indische Buurt (\"Indies Neighborhood\") is a ne...   \n",
       "20168     Located just in between famous central canals....   \n",
       "27886            Central, quiet, safe, clean and beautiful.   \n",
       "28871          Flower market , Leidseplein , Rembrantsplein   \n",
       "29051     the street is quite lively especially on weeke...   \n",
       "...                                                     ...   \n",
       "12690380  Green and quiet lots of playgrounds for kids o...   \n",
       "15005354  The house is situated in a beautiful neighbour...   \n",
       "15171981  Located just outside of Amsterdam, in Duivendr...   \n",
       "17567812  A very nice, quiet area, close to a park, fore...   \n",
       "20084434  This is a little peace and quiet in the crazin...   \n",
       "\n",
       "                                                picture_url host_since  \\\n",
       "id                                                                       \n",
       "2818      https://a0.muscache.com/pictures/10272854/8dcc... 2008-09-24   \n",
       "20168     https://a0.muscache.com/pictures/69979628/fd6a... 2009-12-02   \n",
       "27886     https://a0.muscache.com/pictures/02c2da9d-660e... 2010-03-23   \n",
       "28871     https://a0.muscache.com/pictures/160889/362340... 2010-05-13   \n",
       "29051     https://a0.muscache.com/pictures/162009/bd6be2... 2010-05-13   \n",
       "...                                                     ...        ...   \n",
       "12690380  https://a0.muscache.com/pictures/a100d408-769c... 2014-05-03   \n",
       "15005354  https://a0.muscache.com/pictures/7a7d8058-c3f7... 2015-10-13   \n",
       "15171981  https://a0.muscache.com/pictures/50ab12e8-c478... 2016-09-22   \n",
       "17567812  https://a0.muscache.com/pictures/89bba873-f6c1... 2016-01-18   \n",
       "20084434  https://a0.muscache.com/pictures/b68d763a-2c1f... 2015-03-16   \n",
       "\n",
       "                      host_location  \\\n",
       "id                                    \n",
       "2818         Amsterdam, Netherlands   \n",
       "20168        Amsterdam, Netherlands   \n",
       "27886        Amsterdam, Netherlands   \n",
       "28871        Amsterdam, Netherlands   \n",
       "29051        Amsterdam, Netherlands   \n",
       "...                             ...   \n",
       "12690380     Amsterdam, Netherlands   \n",
       "15005354                        NaN   \n",
       "15171981  Duivendrecht, Netherlands   \n",
       "17567812    Amstelveen, Netherlands   \n",
       "20084434     Amsterdam, Netherlands   \n",
       "\n",
       "                                                 host_about  \\\n",
       "id                                                            \n",
       "2818      Upon arriving in Amsterdam, one can imagine as...   \n",
       "20168                     + (Phone number hidden by Airbnb)   \n",
       "27886     Marjan works in \"eye\" the dutch filmmuseum, an...   \n",
       "28871                                                    Hi   \n",
       "29051                                                    Hi   \n",
       "...                                                     ...   \n",
       "12690380                                                NaN   \n",
       "15005354                                                NaN   \n",
       "15171981                                                NaN   \n",
       "17567812                                                NaN   \n",
       "20084434                                                NaN   \n",
       "\n",
       "          host_response_time host_response_rate host_acceptance_rate  ...  \\\n",
       "id                                                                    ...   \n",
       "2818          within an hour               100%                 100%  ...   \n",
       "20168         within an hour               100%                  98%  ...   \n",
       "27886         within an hour               100%                 100%  ...   \n",
       "28871         within an hour               100%                 100%  ...   \n",
       "29051         within an hour               100%                 100%  ...   \n",
       "...                      ...                ...                  ...  ...   \n",
       "12690380  within a few hours               100%                 100%  ...   \n",
       "15005354      within an hour                67%                  50%  ...   \n",
       "15171981      within an hour               100%                 100%  ...   \n",
       "17567812  a few days or more                 0%                   0%  ...   \n",
       "20084434        within a day               100%                  36%  ...   \n",
       "\n",
       "          instant_bookable  calculated_host_listings_count  \\\n",
       "id                                                           \n",
       "2818                     t                               1   \n",
       "20168                    t                               2   \n",
       "27886                    t                               1   \n",
       "28871                    f                               2   \n",
       "29051                    f                               2   \n",
       "...                    ...                             ...   \n",
       "12690380                 f                               1   \n",
       "15005354                 f                               1   \n",
       "15171981                 f                               1   \n",
       "17567812                 f                               1   \n",
       "20084434                 f                               1   \n",
       "\n",
       "          calculated_host_listings_count_entire_homes  \\\n",
       "id                                                      \n",
       "2818                                                0   \n",
       "20168                                               0   \n",
       "27886                                               0   \n",
       "28871                                               0   \n",
       "29051                                               0   \n",
       "...                                               ...   \n",
       "12690380                                            1   \n",
       "15005354                                            1   \n",
       "15171981                                            1   \n",
       "17567812                                            1   \n",
       "20084434                                            1   \n",
       "\n",
       "         calculated_host_listings_count_private_rooms  \\\n",
       "id                                                      \n",
       "2818                                                1   \n",
       "20168                                               2   \n",
       "27886                                               1   \n",
       "28871                                               2   \n",
       "29051                                               2   \n",
       "...                                               ...   \n",
       "12690380                                            0   \n",
       "15005354                                            0   \n",
       "15171981                                            0   \n",
       "17567812                                            0   \n",
       "20084434                                            0   \n",
       "\n",
       "          calculated_host_listings_count_shared_rooms  reviews_per_month  \\\n",
       "id                                                                         \n",
       "2818                                                0               1.86   \n",
       "20168                                               0               2.22   \n",
       "27886                                               0               1.78   \n",
       "28871                                               0               2.92   \n",
       "29051                                               0               4.16   \n",
       "...                                               ...                ...   \n",
       "12690380                                            0               0.36   \n",
       "15005354                                            0               0.26   \n",
       "15171981                                            0               0.29   \n",
       "17567812                                            0               0.12   \n",
       "20084434                                            0               0.37   \n",
       "\n",
       "         num_verifications  num_amenities  min_price max_price  \n",
       "id                                                              \n",
       "2818                     2             40      147.0    1372.0  \n",
       "20168                    2             16      106.0   38690.0  \n",
       "27886                    2             45      272.0   48416.0  \n",
       "28871                    2             20      150.0  136875.0  \n",
       "29051                    2             19      110.0   40150.0  \n",
       "...                    ...            ...        ...       ...  \n",
       "12690380                 2             66      900.0  337500.0  \n",
       "15005354                 2             32      780.0    4095.0  \n",
       "15171981                 2             45      449.0   13470.0  \n",
       "17567812                 2             29     1128.0  317250.0  \n",
       "20084434                 2             61      600.0  225000.0  \n",
       "\n",
       "[6893 rows x 57 columns]"
      ]
     },
     "execution_count": 88,
     "metadata": {},
     "output_type": "execute_result"
    }
   ],
   "source": [
    "df.replace(\"N/A\", None)"
   ]
  },
  {
   "cell_type": "code",
   "execution_count": 89,
   "id": "867d59ec",
   "metadata": {},
   "outputs": [],
   "source": [
    "df['neighborhood_overview'] = df['neighborhood_overview'].replace(np.nan, '', regex=True)\n",
    "df['host_about'] = df['host_about'].replace(np.nan, '', regex=True)"
   ]
  },
  {
   "cell_type": "code",
   "execution_count": 90,
   "id": "d749b117",
   "metadata": {},
   "outputs": [
    {
     "name": "stdout",
     "output_type": "stream",
     "text": [
      "name : 0\n",
      "description : 16\n",
      "neighborhood_overview : 0\n",
      "picture_url : 0\n",
      "host_since : 0\n",
      "host_location : 771\n",
      "host_about : 0\n",
      "host_response_time : 1657\n",
      "host_response_rate : 1657\n",
      "host_acceptance_rate : 862\n",
      "host_is_superhost : 0\n",
      "host_listings_count : 0\n",
      "host_total_listings_count : 0\n",
      "host_verifications : 0\n",
      "host_has_profile_pic : 0\n",
      "host_identity_verified : 0\n",
      "neighbourhood_cleansed : 0\n",
      "latitude : 0\n",
      "longitude : 0\n",
      "property_type : 0\n",
      "room_type : 0\n",
      "accommodates : 0\n",
      "bathrooms_text : 15\n",
      "bedrooms : 315\n",
      "beds : 101\n",
      "amenities : 0\n",
      "price : 0\n",
      "minimum_nights : 0\n",
      "maximum_nights : 0\n",
      "has_availability : 0\n",
      "availability_30 : 0\n",
      "availability_60 : 0\n",
      "availability_90 : 0\n",
      "availability_365 : 0\n",
      "calendar_last_scraped : 0\n",
      "number_of_reviews : 0\n",
      "number_of_reviews_ltm : 0\n",
      "number_of_reviews_l30d : 0\n",
      "first_review : 646\n",
      "last_review : 646\n",
      "review_scores_rating : 646\n",
      "review_scores_accuracy : 651\n",
      "review_scores_cleanliness : 651\n",
      "review_scores_checkin : 651\n",
      "review_scores_communication : 651\n",
      "review_scores_location : 651\n",
      "review_scores_value : 651\n",
      "instant_bookable : 0\n",
      "calculated_host_listings_count : 0\n",
      "calculated_host_listings_count_entire_homes : 0\n",
      "calculated_host_listings_count_private_rooms : 0\n",
      "calculated_host_listings_count_shared_rooms : 0\n",
      "reviews_per_month : 646\n",
      "num_verifications : 0\n",
      "num_amenities : 0\n",
      "min_price : 0\n",
      "max_price : 0\n"
     ]
    }
   ],
   "source": [
    "for col in df.columns:\n",
    "    print(col,\":\", df[col].isna().sum())"
   ]
  },
  {
   "cell_type": "code",
   "execution_count": 91,
   "id": "c26524b4",
   "metadata": {},
   "outputs": [
    {
     "data": {
      "text/plain": [
       "(6893, 57)"
      ]
     },
     "execution_count": 91,
     "metadata": {},
     "output_type": "execute_result"
    }
   ],
   "source": [
    "df.shape"
   ]
  },
  {
   "cell_type": "code",
   "execution_count": 92,
   "id": "1d22756b",
   "metadata": {},
   "outputs": [],
   "source": [
    "df['review_scores_rating'].fillna(value=df['review_scores_rating'].mean(), inplace=True)"
   ]
  },
  {
   "cell_type": "code",
   "execution_count": 93,
   "id": "bd313672",
   "metadata": {},
   "outputs": [],
   "source": [
    "df[\"neighborhood_overview_wordcount\"] = df[\"neighborhood_overview\"].apply(lambda x: len(x.split(\" \")))"
   ]
  },
  {
   "cell_type": "code",
   "execution_count": 94,
   "id": "e19fb6ec",
   "metadata": {},
   "outputs": [
    {
     "data": {
      "text/plain": [
       "id\n",
       "2818        158\n",
       "20168        91\n",
       "27886         6\n",
       "28871         6\n",
       "29051        13\n",
       "           ... \n",
       "12690380     20\n",
       "15005354     62\n",
       "15171981     50\n",
       "17567812     16\n",
       "20084434    116\n",
       "Name: neighborhood_overview_wordcount, Length: 6893, dtype: int64"
      ]
     },
     "execution_count": 94,
     "metadata": {},
     "output_type": "execute_result"
    }
   ],
   "source": [
    "df[\"neighborhood_overview_wordcount\"]"
   ]
  },
  {
   "cell_type": "code",
   "execution_count": 95,
   "id": "7566a6ae",
   "metadata": {},
   "outputs": [
    {
     "data": {
      "text/plain": [
       "array(['within an hour', 'within a few hours', nan, 'within a day',\n",
       "       'a few days or more'], dtype=object)"
      ]
     },
     "execution_count": 95,
     "metadata": {},
     "output_type": "execute_result"
    }
   ],
   "source": [
    "df[\"host_response_time\"].unique()"
   ]
  },
  {
   "cell_type": "code",
   "execution_count": 96,
   "id": "c6de1764",
   "metadata": {},
   "outputs": [],
   "source": [
    "df = df.replace(\n",
    "    ['within an hour', 'within a few hours', 'within a day', 'a few days or more'], \n",
    "    [0, 1, 2, 3])"
   ]
  },
  {
   "cell_type": "code",
   "execution_count": 97,
   "id": "f19f5751",
   "metadata": {},
   "outputs": [
    {
     "data": {
      "text/plain": [
       "id\n",
       "2818        0.0\n",
       "20168       0.0\n",
       "27886       0.0\n",
       "28871       0.0\n",
       "29051       0.0\n",
       "           ... \n",
       "12690380    1.0\n",
       "15005354    0.0\n",
       "15171981    0.0\n",
       "17567812    3.0\n",
       "20084434    2.0\n",
       "Name: host_response_time, Length: 6893, dtype: float64"
      ]
     },
     "execution_count": 97,
     "metadata": {},
     "output_type": "execute_result"
    }
   ],
   "source": [
    "df['host_response_time']"
   ]
  },
  {
   "cell_type": "code",
   "execution_count": 98,
   "id": "c72f4430",
   "metadata": {},
   "outputs": [
    {
     "data": {
      "text/plain": [
       "0.0"
      ]
     },
     "execution_count": 98,
     "metadata": {},
     "output_type": "execute_result"
    }
   ],
   "source": [
    "df['host_response_time'].mode().values[0]"
   ]
  },
  {
   "cell_type": "code",
   "execution_count": 99,
   "id": "a28369c0",
   "metadata": {},
   "outputs": [],
   "source": [
    "#df['host_response_time'].fillna(value=df['host_response_time'].mode(), inplace=True)"
   ]
  },
  {
   "cell_type": "code",
   "execution_count": 100,
   "id": "ffbd73d0",
   "metadata": {},
   "outputs": [],
   "source": [
    "df['host_response_time'] = df['host_response_time'].replace(np.nan, df['host_response_time'].mode().values[0], regex=True)"
   ]
  },
  {
   "cell_type": "code",
   "execution_count": 101,
   "id": "28c17cce",
   "metadata": {},
   "outputs": [
    {
     "data": {
      "text/plain": [
       "'100%'"
      ]
     },
     "execution_count": 101,
     "metadata": {},
     "output_type": "execute_result"
    }
   ],
   "source": [
    "df[\"host_response_rate\"].iloc[0]"
   ]
  },
  {
   "cell_type": "code",
   "execution_count": 102,
   "id": "1cff7b59",
   "metadata": {},
   "outputs": [],
   "source": [
    "df['host_response_rate'] = (df['host_response_rate'].replace('[\\%,]', '', regex=True).astype(float))/100"
   ]
  },
  {
   "cell_type": "code",
   "execution_count": 103,
   "id": "97ae8671",
   "metadata": {},
   "outputs": [
    {
     "data": {
      "text/plain": [
       "1.0"
      ]
     },
     "execution_count": 103,
     "metadata": {},
     "output_type": "execute_result"
    }
   ],
   "source": [
    "df[\"host_response_rate\"].iloc[0]"
   ]
  },
  {
   "cell_type": "code",
   "execution_count": 104,
   "id": "9f010e49",
   "metadata": {},
   "outputs": [],
   "source": [
    "df['host_acceptance_rate'] = (df['host_acceptance_rate'].replace('[\\%,]', '', regex=True).astype(float))/100"
   ]
  },
  {
   "cell_type": "code",
   "execution_count": 105,
   "id": "07046a0e",
   "metadata": {},
   "outputs": [],
   "source": [
    "df['host_response_rate'].fillna(value=df['host_response_rate'].mean(), inplace=True)\n",
    "df['host_acceptance_rate'].fillna(value=df['host_acceptance_rate'].mean(), inplace=True)"
   ]
  },
  {
   "cell_type": "code",
   "execution_count": 106,
   "id": "41b67b71",
   "metadata": {},
   "outputs": [],
   "source": [
    "df2 = df.dropna()"
   ]
  },
  {
   "cell_type": "code",
   "execution_count": 107,
   "id": "fdc84a40",
   "metadata": {},
   "outputs": [
    {
     "data": {
      "text/plain": [
       "(5263, 58)"
      ]
     },
     "execution_count": 107,
     "metadata": {},
     "output_type": "execute_result"
    }
   ],
   "source": [
    "df2.shape"
   ]
  },
  {
   "cell_type": "code",
   "execution_count": 108,
   "id": "0906a859",
   "metadata": {},
   "outputs": [
    {
     "data": {
      "text/plain": [
       "(6893, 58)"
      ]
     },
     "execution_count": 108,
     "metadata": {},
     "output_type": "execute_result"
    }
   ],
   "source": [
    "df.shape"
   ]
  },
  {
   "cell_type": "code",
   "execution_count": 122,
   "id": "62dc9872",
   "metadata": {},
   "outputs": [],
   "source": [
    "def clean(df):\n",
    "    to_drop = ['listing_url',\n",
    "               'scrape_id',\n",
    "               'last_scraped',\n",
    "               'source',\n",
    "               'host_id',\n",
    "               'host_url',\n",
    "               'host_name',\n",
    "               'host_thumbnail_url',\n",
    "               'host_picture_url',\n",
    "               'neighbourhood_group_cleansed',\n",
    "               'bathrooms',\n",
    "               'minimum_minimum_nights',\n",
    "               'maximum_minimum_nights',\n",
    "               'minimum_maximum_nights',\n",
    "               'maximum_maximum_nights',\n",
    "               'minimum_nights_avg_ntm',\n",
    "               'maximum_nights_avg_ntm',\n",
    "               'calendar_updated',\n",
    "               'host_neighbourhood',\n",
    "               'neighbourhood',\n",
    "               'license']\n",
    "    df = df.drop(to_drop, axis = 1) #drop unnecessary/redundant columns\n",
    "    \n",
    "    df['description']= df['description'].str.replace(r'<[^<>]*>', '', regex=True) #cleaning\n",
    "    df['host_about']= df['host_about'].str.replace('\\r\\n','')             # descriptions from\n",
    "    df['host_about']= df['host_about'].str.replace(r'<[^<>]*>', '', regex=True) #html tags\n",
    "    \n",
    "    to_datetime = ['host_since', 'calendar_last_scraped', 'first_review', 'last_review']\n",
    "    for col in to_datetime:\n",
    "        df[col] = pd.to_datetime(df[col])\n",
    "    \n",
    "    df['host_verifications'] = df['host_verifications'].apply(lambda x: x.strip('][').split(', '))\n",
    "    df['num_verifications'] = df['host_verifications'].apply(lambda x:len(x))\n",
    "    df['amenities'] = df['amenities'].apply(lambda x: x.strip('][').split(', '))\n",
    "    df['num_amenities'] = df['amenities'].apply(lambda x:len(x))\n",
    "    \n",
    "    df['price'] = df['price'].replace('[\\$,]', '', regex=True).astype(float)\n",
    "    df['min_price'] = df['price'] * df['minimum_nights']\n",
    "    df['max_price'] = df['price'] * df['maximum_nights']\n",
    "    \n",
    "    boolean = ['host_is_superhost', 'host_has_profile_pic', 'host_identity_verified']\n",
    "    for col in boolean:\n",
    "            df[col] = df[col].apply(lambda x: True if (x == \"t\") else False)\n",
    "    \n",
    "    df.replace(\"N/A\", None)\n",
    "    \n",
    "    NA_to_empty = ['neighborhood_overview', 'host_about', 'description']\n",
    "    for col in NA_to_empty:\n",
    "            df[col] = df[col].replace(np.nan, '', regex=True)\n",
    "    \n",
    "    imputate_scores = ['review_scores_rating', 'review_scores_accuracy', 'review_scores_cleanliness', \n",
    "                       'review_scores_checkin', 'review_scores_communication', 'review_scores_location',\n",
    "                      'review_scores_value', 'reviews_per_month']\n",
    "    for col in imputate_scores:\n",
    "        df[col].fillna(value=df[col].mean(), inplace=True)\n",
    "    \n",
    "    df[\"neighborhood_overview_wordcount\"] = df[\"neighborhood_overview\"].apply(lambda x: len(x.split(\" \")))\n",
    "    df[\"host_about_wordcount\"] = df[\"host_about\"].apply(lambda x: len(x.split(\" \")))\n",
    "    df[\"description_wordcount\"] = df[\"description\"].apply(lambda x: len(x.split(\" \")))\n",
    "\n",
    "    df = df.replace(\n",
    "    ['within an hour', 'within a few hours', 'within a day', 'a few days or more'], \n",
    "    [0, 1, 2, 3])\n",
    "    df['host_response_time'] = df['host_response_time'].replace(np.nan, df['host_response_time'].mode().values[0], regex=True)\n",
    "    \n",
    "    df['host_response_rate'] = (df['host_response_rate'].replace('[\\%,]', '', regex=True).astype(float))/100\n",
    "    df['host_acceptance_rate'] = (df['host_acceptance_rate'].replace('[\\%,]', '', regex=True).astype(float))/100\n",
    "    df['host_response_rate'].fillna(value=df['host_response_rate'].mean(), inplace=True)\n",
    "    df['host_acceptance_rate'].fillna(value=df['host_acceptance_rate'].mean(), inplace=True)\n",
    "    \n",
    "    df = df.dropna()\n",
    "    \n",
    "    return df"
   ]
  },
  {
   "cell_type": "code",
   "execution_count": 123,
   "id": "8f20db7a",
   "metadata": {},
   "outputs": [
    {
     "name": "stdout",
     "output_type": "stream",
     "text": [
      "(6893, 74)\n"
     ]
    }
   ],
   "source": [
    "print(df.shape)"
   ]
  },
  {
   "cell_type": "code",
   "execution_count": 124,
   "id": "def9bfb2",
   "metadata": {},
   "outputs": [
    {
     "name": "stdout",
     "output_type": "stream",
     "text": [
      "listing_url : 0\n",
      "scrape_id : 0\n",
      "last_scraped : 0\n",
      "source : 0\n",
      "name : 0\n",
      "description : 16\n",
      "neighborhood_overview : 2265\n",
      "picture_url : 0\n",
      "host_id : 0\n",
      "host_url : 0\n",
      "host_name : 0\n",
      "host_since : 0\n",
      "host_location : 771\n",
      "host_about : 2761\n",
      "host_response_time : 1657\n",
      "host_response_rate : 1657\n",
      "host_acceptance_rate : 862\n",
      "host_is_superhost : 8\n",
      "host_thumbnail_url : 0\n",
      "host_picture_url : 0\n",
      "host_neighbourhood : 3797\n",
      "host_listings_count : 0\n",
      "host_total_listings_count : 0\n",
      "host_verifications : 0\n",
      "host_has_profile_pic : 0\n",
      "host_identity_verified : 0\n",
      "neighbourhood : 2265\n",
      "neighbourhood_cleansed : 0\n",
      "neighbourhood_group_cleansed : 6893\n",
      "latitude : 0\n",
      "longitude : 0\n",
      "property_type : 0\n",
      "room_type : 0\n",
      "accommodates : 0\n",
      "bathrooms : 6893\n",
      "bathrooms_text : 15\n",
      "bedrooms : 315\n",
      "beds : 101\n",
      "amenities : 0\n",
      "price : 0\n",
      "minimum_nights : 0\n",
      "maximum_nights : 0\n",
      "minimum_minimum_nights : 2\n",
      "maximum_minimum_nights : 2\n",
      "minimum_maximum_nights : 2\n",
      "maximum_maximum_nights : 2\n",
      "minimum_nights_avg_ntm : 2\n",
      "maximum_nights_avg_ntm : 2\n",
      "calendar_updated : 6893\n",
      "has_availability : 0\n",
      "availability_30 : 0\n",
      "availability_60 : 0\n",
      "availability_90 : 0\n",
      "availability_365 : 0\n",
      "calendar_last_scraped : 0\n",
      "number_of_reviews : 0\n",
      "number_of_reviews_ltm : 0\n",
      "number_of_reviews_l30d : 0\n",
      "first_review : 646\n",
      "last_review : 646\n",
      "review_scores_rating : 646\n",
      "review_scores_accuracy : 651\n",
      "review_scores_cleanliness : 651\n",
      "review_scores_checkin : 651\n",
      "review_scores_communication : 651\n",
      "review_scores_location : 651\n",
      "review_scores_value : 651\n",
      "license : 444\n",
      "instant_bookable : 0\n",
      "calculated_host_listings_count : 0\n",
      "calculated_host_listings_count_entire_homes : 0\n",
      "calculated_host_listings_count_private_rooms : 0\n",
      "calculated_host_listings_count_shared_rooms : 0\n",
      "reviews_per_month : 646\n"
     ]
    }
   ],
   "source": [
    "for col in df.columns:\n",
    "    print(col,\":\", df[col].isna().sum())"
   ]
  },
  {
   "cell_type": "code",
   "execution_count": 125,
   "id": "12762b95",
   "metadata": {},
   "outputs": [
    {
     "name": "stderr",
     "output_type": "stream",
     "text": [
      "/Users/kevinyan/opt/miniconda3/envs/cse217a/lib/python3.7/site-packages/pandas/core/missing.py:56: FutureWarning: elementwise comparison failed; returning scalar instead, but in the future will perform elementwise comparison\n",
      "  mask |= arr == x\n"
     ]
    }
   ],
   "source": [
    "df1 = clean(df)"
   ]
  },
  {
   "cell_type": "code",
   "execution_count": 113,
   "id": "56672128",
   "metadata": {},
   "outputs": [
    {
     "name": "stdout",
     "output_type": "stream",
     "text": [
      "(5271, 60)\n"
     ]
    }
   ],
   "source": [
    "print(df1.shape)"
   ]
  },
  {
   "cell_type": "code",
   "execution_count": 114,
   "id": "619e7396",
   "metadata": {},
   "outputs": [
    {
     "name": "stdout",
     "output_type": "stream",
     "text": [
      "name : 0\n",
      "description : 0\n",
      "neighborhood_overview : 0\n",
      "picture_url : 0\n",
      "host_since : 0\n",
      "host_location : 0\n",
      "host_about : 0\n",
      "host_response_time : 0\n",
      "host_response_rate : 0\n",
      "host_acceptance_rate : 0\n",
      "host_is_superhost : 0\n",
      "host_listings_count : 0\n",
      "host_total_listings_count : 0\n",
      "host_verifications : 0\n",
      "host_has_profile_pic : 0\n",
      "host_identity_verified : 0\n",
      "neighbourhood_cleansed : 0\n",
      "latitude : 0\n",
      "longitude : 0\n",
      "property_type : 0\n",
      "room_type : 0\n",
      "accommodates : 0\n",
      "bathrooms_text : 0\n",
      "bedrooms : 0\n",
      "beds : 0\n",
      "amenities : 0\n",
      "price : 0\n",
      "minimum_nights : 0\n",
      "maximum_nights : 0\n",
      "has_availability : 0\n",
      "availability_30 : 0\n",
      "availability_60 : 0\n",
      "availability_90 : 0\n",
      "availability_365 : 0\n",
      "calendar_last_scraped : 0\n",
      "number_of_reviews : 0\n",
      "number_of_reviews_ltm : 0\n",
      "number_of_reviews_l30d : 0\n",
      "first_review : 0\n",
      "last_review : 0\n",
      "review_scores_rating : 0\n",
      "review_scores_accuracy : 0\n",
      "review_scores_cleanliness : 0\n",
      "review_scores_checkin : 0\n",
      "review_scores_communication : 0\n",
      "review_scores_location : 0\n",
      "review_scores_value : 0\n",
      "instant_bookable : 0\n",
      "calculated_host_listings_count : 0\n",
      "calculated_host_listings_count_entire_homes : 0\n",
      "calculated_host_listings_count_private_rooms : 0\n",
      "calculated_host_listings_count_shared_rooms : 0\n",
      "reviews_per_month : 0\n",
      "num_verifications : 0\n",
      "num_amenities : 0\n",
      "min_price : 0\n",
      "max_price : 0\n",
      "neighborhood_overview_wordcount : 0\n",
      "host_about_wordcount : 0\n",
      "description_wordcount : 0\n"
     ]
    }
   ],
   "source": [
    "for col in df1.columns:\n",
    "    print(col,\":\", df1[col].isna().sum())"
   ]
  },
  {
   "cell_type": "code",
   "execution_count": 115,
   "id": "69a87844",
   "metadata": {},
   "outputs": [],
   "source": [
    "import matplotlib.pyplot as plt\n",
    "\n"
   ]
  },
  {
   "cell_type": "code",
   "execution_count": 116,
   "id": "c8c77cd9",
   "metadata": {},
   "outputs": [
    {
     "data": {
      "text/plain": [
       "Text(0.5, 1.0, 'Neighborhood Overview Wordcount vs. Rating')"
      ]
     },
     "execution_count": 116,
     "metadata": {},
     "output_type": "execute_result"
    },
    {
     "data": {
      "image/png": "[encoded data removed]",
      "text/plain": [
       "<Figure size 432x288 with 1 Axes>"
      ]
     },
     "metadata": {
      "needs_background": "light"
     },
     "output_type": "display_data"
    }
   ],
   "source": [
    "plt.scatter(df1[\"neighborhood_overview_wordcount\"].loc[df1['neighborhood_overview_wordcount'] < 250], df1[\"review_scores_rating\"].loc[df1['neighborhood_overview_wordcount'] < 250])\n",
    "plt.ylabel(\"Review Scores Rating\")\n",
    "plt.xlabel(\"Neighborhood Overview Wordcount\")\n",
    "plt.title(\"Neighborhood Overview Wordcount vs. Rating\")"
   ]
  },
  {
   "cell_type": "code",
   "execution_count": null,
   "id": "c515cae1",
   "metadata": {},
   "outputs": [],
   "source": [
    "plt.scatter(df1[\"price\"], df1[\"review_scores_rating\"])\n",
    "plt.xscale(\"log\")\n",
    "plt.ylabel(\"Review Scores Rating\")\n",
    "plt.xlabel(\"price\")\n",
    "plt.title(\"price vs. Rating\")"
   ]
  },
  {
   "cell_type": "code",
   "execution_count": null,
   "id": "842eb61b",
   "metadata": {},
   "outputs": [],
   "source": [
    "import seaborn as sns\n",
    "corr = df1.corr()\n",
    "sns.heatmap(corr, cmap=\"Blues\", annot=False)\n",
    "sns.set(rc={'figure.figsize':(25,20)})"
   ]
  },
  {
   "cell_type": "code",
   "execution_count": null,
   "id": "cfda768d",
   "metadata": {},
   "outputs": [],
   "source": [
    "plt.scatter(df1[\"host_about_wordcount\"].loc[df1['host_about_wordcount'] < 500], df1[\"calculated_host_listings_count\"].loc[df1['host_about_wordcount'] < 500])\n",
    "plt.ylabel(\"Host Listings Count\")\n",
    "plt.xlabel(\"Host-About Wordcount\")\n",
    "plt.title(\"Host-About Wordcount vs. Host Listings Count\")"
   ]
  },
  {
   "cell_type": "code",
   "execution_count": null,
   "id": "e5173fe6",
   "metadata": {},
   "outputs": [],
   "source": [
    "plt.scatter(df1[\"accommodates\"], df1[\"price\"])\n",
    "plt.ylabel(\"Price\")\n",
    "plt.xlabel(\"Maximum Capacity\")\n",
    "plt.title(\"Maximum Capacity vs. Price\")"
   ]
  },
  {
   "cell_type": "code",
   "execution_count": null,
   "id": "1c8fef6f",
   "metadata": {},
   "outputs": [],
   "source": [
    "plt.scatter(df1[\"bedrooms\"], df1[\"price\"])\n",
    "plt.ylabel(\"Price\")\n",
    "plt.xlabel(\"Bedrooms\")\n",
    "plt.title(\"Bedrooms vs. Price\")"
   ]
  },
  {
   "cell_type": "code",
   "execution_count": null,
   "id": "956227a5",
   "metadata": {},
   "outputs": [],
   "source": [
    "plt.scatter(df1[\"beds\"], df1[\"price\"])\n",
    "plt.ylabel(\"Price\")\n",
    "plt.xlabel(\"Beds\")\n",
    "plt.title(\"Beds vs. Price\")"
   ]
  },
  {
   "cell_type": "code",
   "execution_count": null,
   "id": "db9a8471",
   "metadata": {},
   "outputs": [],
   "source": [
    "plt.scatter(df1[\"num_amenities\"], df1[\"review_scores_rating\"])\n",
    "plt.ylabel(\"Rating\")\n",
    "plt.xlabel(\"# of Amenities\")\n",
    "plt.title(\"# of Amenities vs. Rating\")"
   ]
  },
  {
   "cell_type": "code",
   "execution_count": null,
   "id": "1524fafa",
   "metadata": {},
   "outputs": [],
   "source": [
    "x = df1[\"review_scores_rating\"].loc[df1[\"host_is_superhost\"] == True].mean()\n",
    "y = df1[\"review_scores_rating\"].loc[df1[\"host_is_superhost\"] == False].mean()\n",
    "ratings = [x, y]\n",
    "xaxis = [\"True\", \"False\"]\n",
    "plt.bar(xaxis, ratings)\n",
    "plt.ylabel(\"Mean Rating\")\n",
    "plt.xlabel(\"Host is Superhost\")\n",
    "plt.title(\"Superhost vs. Rating\")"
   ]
  },
  {
   "cell_type": "code",
   "execution_count": null,
   "id": "4393a845",
   "metadata": {},
   "outputs": [],
   "source": [
    "x = df1[\"review_scores_rating\"].loc[df1[\"host_has_profile_pic\"] == True].mean()\n",
    "y = df1[\"review_scores_rating\"].loc[df1[\"host_has_profile_pic\"] == False].mean()\n",
    "ratings = [x, y]\n",
    "xaxis = [\"True\", \"False\"]\n",
    "plt.bar(xaxis, ratings)\n",
    "plt.ylabel(\"Mean Rating\")\n",
    "plt.xlabel(\"Host has Profile Pic\")\n",
    "plt.title(\"Host Profile Pic vs. Rating\")"
   ]
  },
  {
   "cell_type": "code",
   "execution_count": null,
   "id": "3dacf62a",
   "metadata": {},
   "outputs": [],
   "source": [
    "x = df1[\"review_scores_rating\"].loc[df1[\"host_identity_verified\"] == True].mean()\n",
    "y = df1[\"review_scores_rating\"].loc[df1[\"host_identity_verified\"] == False].mean()\n",
    "ratings = [x, y]\n",
    "xaxis = [\"True\", \"False\"]\n",
    "plt.bar(xaxis, ratings)\n",
    "plt.ylabel(\"Mean Rating\")\n",
    "plt.xlabel(\"Host Identity Verified\")\n",
    "plt.title(\"Host Identity Verification vs. Rating\")"
   ]
  },
  {
   "cell_type": "code",
   "execution_count": null,
   "id": "9ea1f5aa",
   "metadata": {},
   "outputs": [],
   "source": [
    "x = df1[\"price\"].loc[df1[\"host_is_superhost\"] == True].mean()\n",
    "y = df1[\"price\"].loc[df1[\"host_is_superhost\"] == False].mean()\n",
    "ratings = [x, y]\n",
    "xaxis = [\"True\", \"False\"]\n",
    "plt.bar(xaxis, ratings)\n",
    "plt.ylabel(\"Mean Price\")\n",
    "plt.xlabel(\"Host is Superhost\")\n",
    "plt.title(\"Superhost vs. Price\")"
   ]
  },
  {
   "cell_type": "code",
   "execution_count": null,
   "id": "3788253e",
   "metadata": {},
   "outputs": [],
   "source": [
    "x = df1[\"price\"].loc[df1[\"host_has_profile_pic\"] == True].mean()\n",
    "y = df1[\"price\"].loc[df1[\"host_has_profile_pic\"] == False].mean()\n",
    "ratings = [x, y]\n",
    "xaxis = [\"True\", \"False\"]\n",
    "plt.bar(xaxis, ratings)\n",
    "plt.ylabel(\"Mean Price\")\n",
    "plt.xlabel(\"Host has Profile Pic\")\n",
    "plt.title(\"Host Profile Pic vs. Price\")"
   ]
  },
  {
   "cell_type": "code",
   "execution_count": null,
   "id": "3519f95b",
   "metadata": {},
   "outputs": [],
   "source": [
    "x = df1[\"price\"].loc[df1[\"host_identity_verified\"] == True].mean()\n",
    "y = df1[\"price\"].loc[df1[\"host_identity_verified\"] == False].mean()\n",
    "ratings = [x, y]\n",
    "xaxis = [\"True\", \"False\"]\n",
    "plt.bar(xaxis, ratings)\n",
    "plt.ylabel(\"Mean Price\")\n",
    "plt.xlabel(\"Host Identity Verified\")\n",
    "plt.title(\"Host Identity Verification vs. Price\")"
   ]
  },
  {
   "cell_type": "code",
   "execution_count": null,
   "id": "21ec96b5",
   "metadata": {},
   "outputs": [],
   "source": [
    "plt.scatter(df1[\"price\"].loc[df1[\"price\"] < 4000], df1[\"review_scores_rating\"].loc[df1[\"price\"] < 4000])\n",
    "plt.ylabel(\"Rating\")\n",
    "plt.xlabel(\"Price\")\n",
    "plt.title(\"Price vs. Rating\")"
   ]
  },
  {
   "cell_type": "code",
   "execution_count": null,
   "id": "7b7d6688",
   "metadata": {},
   "outputs": [],
   "source": []
  },
  {
   "cell_type": "code",
   "execution_count": 130,
   "id": "c09eab4c",
   "metadata": {},
   "outputs": [],
   "source": [
    "import matplotlib.pyplot as plt\n",
    "def scatter(df, feature1, feature2):\n",
    "    plt.scatter(df[feature1], df[feature2])\n",
    "    plt.ylabel(feature2)\n",
    "    plt.xlabel(feature1)\n",
    "    plt.title(f\"{feature1} vs {feature2}\")\n",
    "    plt.show()\n",
    "    "
   ]
  },
  {
   "cell_type": "code",
   "execution_count": 131,
   "id": "5ba84677",
   "metadata": {},
   "outputs": [
    {
     "data": {
      "image/png": "[encoded data removed]",
      "text/plain": [
       "<Figure size 432x288 with 1 Axes>"
      ]
     },
     "metadata": {
      "needs_background": "light"
     },
     "output_type": "display_data"
    }
   ],
   "source": [
    "scatter(df1, \"price\", \"review_scores_rating\")"
   ]
  },
  {
   "cell_type": "code",
   "execution_count": 129,
   "id": "bed703bb",
   "metadata": {},
   "outputs": [
    {
     "data": {
      "text/plain": [
       "<matplotlib.collections.PathCollection at 0x7fdb45aafa10>"
      ]
     },
     "execution_count": 129,
     "metadata": {},
     "output_type": "execute_result"
    },
    {
     "data": {
      "image/png": "[encoded data removed]",
      "text/plain": [
       "<Figure size 432x288 with 1 Axes>"
      ]
     },
     "metadata": {
      "needs_background": "light"
     },
     "output_type": "display_data"
    }
   ],
   "source": [
    "plt.scatter(df1[\"num_amenities\"], df1[\"review_scores_rating\"])"
   ]
  },
  {
   "cell_type": "code",
   "execution_count": 139,
   "id": "17856842",
   "metadata": {},
   "outputs": [
    {
     "data": {
      "text/plain": [
       "str"
      ]
     },
     "execution_count": 139,
     "metadata": {},
     "output_type": "execute_result"
    }
   ],
   "source": [
    "import seaborn as sns\n",
    "type(df[\"price\"])"
   ]
  },
  {
   "cell_type": "code",
   "execution_count": 145,
   "id": "26a9c46c",
   "metadata": {},
   "outputs": [
    {
     "name": "stderr",
     "output_type": "stream",
     "text": [
      "/Users/kevinyan/opt/miniconda3/envs/cse217a/lib/python3.7/site-packages/seaborn/_decorators.py:43: FutureWarning: Pass the following variable as a keyword arg: x. From version 0.12, the only valid positional argument will be `data`, and passing other arguments without an explicit keyword will result in an error or misinterpretation.\n",
      "  FutureWarning\n"
     ]
    },
    {
     "data": {
      "text/plain": [
       "Text(0.5, 1.0, 'Violin Plot of Nightly Prices')"
      ]
     },
     "execution_count": 145,
     "metadata": {},
     "output_type": "execute_result"
    },
    {
     "data": {
      "image/png": "[encoded data removed]",
      "text/plain": [
       "<Figure size 432x288 with 1 Axes>"
      ]
     },
     "metadata": {
      "needs_background": "light"
     },
     "output_type": "display_data"
    }
   ],
   "source": [
    "\n",
    "q = df1[\"price\"].quantile(0.99)\n",
    "\n",
    "sns.violinplot(df1[\"price\"].loc[df1[\"price\"] < q])\n",
    "plt.title(\"Violin Plot of Nightly Prices\")"
   ]
  },
  {
   "cell_type": "code",
   "execution_count": 148,
   "id": "fd0086f8",
   "metadata": {},
   "outputs": [],
   "source": [
    "def prices_violin_plot(df):\n",
    "    sns.violinplot(df[\"price\"].loc[df[\"price\"] < df[\"price\"].quantile(0.99)])\n",
    "    plt.xlabel(\"price per night\")\n",
    "    plt.title(\"Violin Plot of Nightly Prices\")\n",
    "    plt.show()"
   ]
  },
  {
   "cell_type": "code",
   "execution_count": 149,
   "id": "02a19fd7",
   "metadata": {},
   "outputs": [
    {
     "name": "stderr",
     "output_type": "stream",
     "text": [
      "/Users/kevinyan/opt/miniconda3/envs/cse217a/lib/python3.7/site-packages/seaborn/_decorators.py:43: FutureWarning: Pass the following variable as a keyword arg: x. From version 0.12, the only valid positional argument will be `data`, and passing other arguments without an explicit keyword will result in an error or misinterpretation.\n",
      "  FutureWarning\n"
     ]
    },
    {
     "data": {
      "image/png": "[encoded data removed]",
      "text/plain": [
       "<Figure size 432x288 with 1 Axes>"
      ]
     },
     "metadata": {
      "needs_background": "light"
     },
     "output_type": "display_data"
    }
   ],
   "source": [
    "prices_violin_plot(df1)"
   ]
  },
  {
   "cell_type": "code",
   "execution_count": 152,
   "id": "206884e4",
   "metadata": {},
   "outputs": [],
   "source": [
    "from sklearn.linear_model import LinearRegression"
   ]
  },
  {
   "cell_type": "code",
   "execution_count": 167,
   "id": "0218f3e2",
   "metadata": {},
   "outputs": [],
   "source": [
    "def predict_price(df, feature, feature_val):\n",
    "    model = LinearRegression().fit(df[feature].values.reshape(-1,1), df[\"price\"])\n",
    "    return model.predict([[feature_val]])[0]\n"
   ]
  },
  {
   "cell_type": "code",
   "execution_count": 165,
   "id": "e24299be",
   "metadata": {},
   "outputs": [
    {
     "data": {
      "text/plain": [
       "154.77803698968157"
      ]
     },
     "execution_count": 165,
     "metadata": {},
     "output_type": "execute_result"
    }
   ],
   "source": [
    "model = LinearRegression().fit(df1[\"num_amenities\"].values.reshape(-1,1), df1[\"price\"])\n",
    "model.predict([[5]])[0]"
   ]
  },
  {
   "cell_type": "code",
   "execution_count": 170,
   "id": "b68aa397",
   "metadata": {},
   "outputs": [
    {
     "data": {
      "text/plain": [
       "237.2348002332651"
      ]
     },
     "execution_count": 170,
     "metadata": {},
     "output_type": "execute_result"
    }
   ],
   "source": [
    "predict_price(df1, \"num_amenities\", 40)"
   ]
  },
  {
   "cell_type": "code",
   "execution_count": null,
   "id": "a3e4a4bd",
   "metadata": {},
   "outputs": [],
   "source": []
  }
 ],
 "metadata": {
  "kernelspec": {
   "display_name": "Python 3",
   "language": "python",
   "name": "python3"
  },
  "language_info": {
   "codemirror_mode": {
    "name": "ipython",
    "version": 3
   },
   "file_extension": ".py",
   "mimetype": "text/x-python",
   "name": "python",
   "nbconvert_exporter": "python",
   "pygments_lexer": "ipython3",
   "version": "3.7.11"
  }
 },
 "nbformat": 4,
 "nbformat_minor": 5
}
